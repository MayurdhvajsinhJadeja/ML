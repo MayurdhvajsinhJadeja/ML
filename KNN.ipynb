{
  "nbformat": 4,
  "nbformat_minor": 0,
  "metadata": {
    "colab": {
      "provenance": [],
      "authorship_tag": "ABX9TyMs9xBvDW46ALxS5IqLV9Ac",
      "include_colab_link": true
    },
    "kernelspec": {
      "name": "python3",
      "display_name": "Python 3"
    },
    "language_info": {
      "name": "python"
    }
  },
  "cells": [
    {
      "cell_type": "markdown",
      "metadata": {
        "id": "view-in-github",
        "colab_type": "text"
      },
      "source": [
        "<a href=\"https://colab.research.google.com/github/MayurdhvajsinhJadeja/ML/blob/main/KNN.ipynb\" target=\"_parent\"><img src=\"https://colab.research.google.com/assets/colab-badge.svg\" alt=\"Open In Colab\"/></a>"
      ]
    },
    {
      "cell_type": "code",
      "execution_count": null,
      "metadata": {
        "id": "IV-N078M1q5O"
      },
      "outputs": [],
      "source": [
        "#https://archive.ics.uci.edu/ml/machine-learning-databases/iris/iris.data"
      ]
    },
    {
      "cell_type": "code",
      "source": [
        "import numpy as np\n",
        "import pandas as pd\n",
        "import matplotlib.pyplot as plt\n",
        "import math"
      ],
      "metadata": {
        "id": "I5sNcYUJ2Iim"
      },
      "execution_count": null,
      "outputs": []
    },
    {
      "cell_type": "code",
      "source": [
        "url=\"https://archive.ics.uci.edu/ml/machine-learning-databases/iris/iris.data\"\n",
        "col_name=[\"sepal length\",\"sepal width\",\"petal length\",\"petal width\",\"class\"]\n",
        "dataset=pd.read_csv(url,names=col_name)"
      ],
      "metadata": {
        "id": "3n4EHGFk2bAt"
      },
      "execution_count": null,
      "outputs": []
    },
    {
      "cell_type": "code",
      "source": [
        "dataset"
      ],
      "metadata": {
        "colab": {
          "base_uri": "https://localhost:8080/",
          "height": 424
        },
        "id": "oqmXwmfr2mii",
        "outputId": "3ed5881b-b327-4d6c-cb76-12e6eb61dc48"
      },
      "execution_count": null,
      "outputs": [
        {
          "output_type": "execute_result",
          "data": {
            "text/plain": [
              "     sepal length  sepal width  petal length  petal width           class\n",
              "0             5.1          3.5           1.4          0.2     Iris-setosa\n",
              "1             4.9          3.0           1.4          0.2     Iris-setosa\n",
              "2             4.7          3.2           1.3          0.2     Iris-setosa\n",
              "3             4.6          3.1           1.5          0.2     Iris-setosa\n",
              "4             5.0          3.6           1.4          0.2     Iris-setosa\n",
              "..            ...          ...           ...          ...             ...\n",
              "145           6.7          3.0           5.2          2.3  Iris-virginica\n",
              "146           6.3          2.5           5.0          1.9  Iris-virginica\n",
              "147           6.5          3.0           5.2          2.0  Iris-virginica\n",
              "148           6.2          3.4           5.4          2.3  Iris-virginica\n",
              "149           5.9          3.0           5.1          1.8  Iris-virginica\n",
              "\n",
              "[150 rows x 5 columns]"
            ],
            "text/html": [
              "\n",
              "  <div id=\"df-0846fb01-c55e-4958-9fe0-edd9643cf903\">\n",
              "    <div class=\"colab-df-container\">\n",
              "      <div>\n",
              "<style scoped>\n",
              "    .dataframe tbody tr th:only-of-type {\n",
              "        vertical-align: middle;\n",
              "    }\n",
              "\n",
              "    .dataframe tbody tr th {\n",
              "        vertical-align: top;\n",
              "    }\n",
              "\n",
              "    .dataframe thead th {\n",
              "        text-align: right;\n",
              "    }\n",
              "</style>\n",
              "<table border=\"1\" class=\"dataframe\">\n",
              "  <thead>\n",
              "    <tr style=\"text-align: right;\">\n",
              "      <th></th>\n",
              "      <th>sepal length</th>\n",
              "      <th>sepal width</th>\n",
              "      <th>petal length</th>\n",
              "      <th>petal width</th>\n",
              "      <th>class</th>\n",
              "    </tr>\n",
              "  </thead>\n",
              "  <tbody>\n",
              "    <tr>\n",
              "      <th>0</th>\n",
              "      <td>5.1</td>\n",
              "      <td>3.5</td>\n",
              "      <td>1.4</td>\n",
              "      <td>0.2</td>\n",
              "      <td>Iris-setosa</td>\n",
              "    </tr>\n",
              "    <tr>\n",
              "      <th>1</th>\n",
              "      <td>4.9</td>\n",
              "      <td>3.0</td>\n",
              "      <td>1.4</td>\n",
              "      <td>0.2</td>\n",
              "      <td>Iris-setosa</td>\n",
              "    </tr>\n",
              "    <tr>\n",
              "      <th>2</th>\n",
              "      <td>4.7</td>\n",
              "      <td>3.2</td>\n",
              "      <td>1.3</td>\n",
              "      <td>0.2</td>\n",
              "      <td>Iris-setosa</td>\n",
              "    </tr>\n",
              "    <tr>\n",
              "      <th>3</th>\n",
              "      <td>4.6</td>\n",
              "      <td>3.1</td>\n",
              "      <td>1.5</td>\n",
              "      <td>0.2</td>\n",
              "      <td>Iris-setosa</td>\n",
              "    </tr>\n",
              "    <tr>\n",
              "      <th>4</th>\n",
              "      <td>5.0</td>\n",
              "      <td>3.6</td>\n",
              "      <td>1.4</td>\n",
              "      <td>0.2</td>\n",
              "      <td>Iris-setosa</td>\n",
              "    </tr>\n",
              "    <tr>\n",
              "      <th>...</th>\n",
              "      <td>...</td>\n",
              "      <td>...</td>\n",
              "      <td>...</td>\n",
              "      <td>...</td>\n",
              "      <td>...</td>\n",
              "    </tr>\n",
              "    <tr>\n",
              "      <th>145</th>\n",
              "      <td>6.7</td>\n",
              "      <td>3.0</td>\n",
              "      <td>5.2</td>\n",
              "      <td>2.3</td>\n",
              "      <td>Iris-virginica</td>\n",
              "    </tr>\n",
              "    <tr>\n",
              "      <th>146</th>\n",
              "      <td>6.3</td>\n",
              "      <td>2.5</td>\n",
              "      <td>5.0</td>\n",
              "      <td>1.9</td>\n",
              "      <td>Iris-virginica</td>\n",
              "    </tr>\n",
              "    <tr>\n",
              "      <th>147</th>\n",
              "      <td>6.5</td>\n",
              "      <td>3.0</td>\n",
              "      <td>5.2</td>\n",
              "      <td>2.0</td>\n",
              "      <td>Iris-virginica</td>\n",
              "    </tr>\n",
              "    <tr>\n",
              "      <th>148</th>\n",
              "      <td>6.2</td>\n",
              "      <td>3.4</td>\n",
              "      <td>5.4</td>\n",
              "      <td>2.3</td>\n",
              "      <td>Iris-virginica</td>\n",
              "    </tr>\n",
              "    <tr>\n",
              "      <th>149</th>\n",
              "      <td>5.9</td>\n",
              "      <td>3.0</td>\n",
              "      <td>5.1</td>\n",
              "      <td>1.8</td>\n",
              "      <td>Iris-virginica</td>\n",
              "    </tr>\n",
              "  </tbody>\n",
              "</table>\n",
              "<p>150 rows × 5 columns</p>\n",
              "</div>\n",
              "      <button class=\"colab-df-convert\" onclick=\"convertToInteractive('df-0846fb01-c55e-4958-9fe0-edd9643cf903')\"\n",
              "              title=\"Convert this dataframe to an interactive table.\"\n",
              "              style=\"display:none;\">\n",
              "        \n",
              "  <svg xmlns=\"http://www.w3.org/2000/svg\" height=\"24px\"viewBox=\"0 0 24 24\"\n",
              "       width=\"24px\">\n",
              "    <path d=\"M0 0h24v24H0V0z\" fill=\"none\"/>\n",
              "    <path d=\"M18.56 5.44l.94 2.06.94-2.06 2.06-.94-2.06-.94-.94-2.06-.94 2.06-2.06.94zm-11 1L8.5 8.5l.94-2.06 2.06-.94-2.06-.94L8.5 2.5l-.94 2.06-2.06.94zm10 10l.94 2.06.94-2.06 2.06-.94-2.06-.94-.94-2.06-.94 2.06-2.06.94z\"/><path d=\"M17.41 7.96l-1.37-1.37c-.4-.4-.92-.59-1.43-.59-.52 0-1.04.2-1.43.59L10.3 9.45l-7.72 7.72c-.78.78-.78 2.05 0 2.83L4 21.41c.39.39.9.59 1.41.59.51 0 1.02-.2 1.41-.59l7.78-7.78 2.81-2.81c.8-.78.8-2.07 0-2.86zM5.41 20L4 18.59l7.72-7.72 1.47 1.35L5.41 20z\"/>\n",
              "  </svg>\n",
              "      </button>\n",
              "      \n",
              "  <style>\n",
              "    .colab-df-container {\n",
              "      display:flex;\n",
              "      flex-wrap:wrap;\n",
              "      gap: 12px;\n",
              "    }\n",
              "\n",
              "    .colab-df-convert {\n",
              "      background-color: #E8F0FE;\n",
              "      border: none;\n",
              "      border-radius: 50%;\n",
              "      cursor: pointer;\n",
              "      display: none;\n",
              "      fill: #1967D2;\n",
              "      height: 32px;\n",
              "      padding: 0 0 0 0;\n",
              "      width: 32px;\n",
              "    }\n",
              "\n",
              "    .colab-df-convert:hover {\n",
              "      background-color: #E2EBFA;\n",
              "      box-shadow: 0px 1px 2px rgba(60, 64, 67, 0.3), 0px 1px 3px 1px rgba(60, 64, 67, 0.15);\n",
              "      fill: #174EA6;\n",
              "    }\n",
              "\n",
              "    [theme=dark] .colab-df-convert {\n",
              "      background-color: #3B4455;\n",
              "      fill: #D2E3FC;\n",
              "    }\n",
              "\n",
              "    [theme=dark] .colab-df-convert:hover {\n",
              "      background-color: #434B5C;\n",
              "      box-shadow: 0px 1px 3px 1px rgba(0, 0, 0, 0.15);\n",
              "      filter: drop-shadow(0px 1px 2px rgba(0, 0, 0, 0.3));\n",
              "      fill: #FFFFFF;\n",
              "    }\n",
              "  </style>\n",
              "\n",
              "      <script>\n",
              "        const buttonEl =\n",
              "          document.querySelector('#df-0846fb01-c55e-4958-9fe0-edd9643cf903 button.colab-df-convert');\n",
              "        buttonEl.style.display =\n",
              "          google.colab.kernel.accessAllowed ? 'block' : 'none';\n",
              "\n",
              "        async function convertToInteractive(key) {\n",
              "          const element = document.querySelector('#df-0846fb01-c55e-4958-9fe0-edd9643cf903');\n",
              "          const dataTable =\n",
              "            await google.colab.kernel.invokeFunction('convertToInteractive',\n",
              "                                                     [key], {});\n",
              "          if (!dataTable) return;\n",
              "\n",
              "          const docLinkHtml = 'Like what you see? Visit the ' +\n",
              "            '<a target=\"_blank\" href=https://colab.research.google.com/notebooks/data_table.ipynb>data table notebook</a>'\n",
              "            + ' to learn more about interactive tables.';\n",
              "          element.innerHTML = '';\n",
              "          dataTable['output_type'] = 'display_data';\n",
              "          await google.colab.output.renderOutput(dataTable, element);\n",
              "          const docLink = document.createElement('div');\n",
              "          docLink.innerHTML = docLinkHtml;\n",
              "          element.appendChild(docLink);\n",
              "        }\n",
              "      </script>\n",
              "    </div>\n",
              "  </div>\n",
              "  "
            ]
          },
          "metadata": {},
          "execution_count": 19
        }
      ]
    },
    {
      "cell_type": "code",
      "source": [
        "dataset.head()"
      ],
      "metadata": {
        "colab": {
          "base_uri": "https://localhost:8080/",
          "height": 206
        },
        "id": "g-C7k7mR2ngw",
        "outputId": "4da5678e-f8aa-4dbe-9482-47ae056d6232"
      },
      "execution_count": null,
      "outputs": [
        {
          "output_type": "execute_result",
          "data": {
            "text/plain": [
              "   sepal length  sepal width  petal length  petal width        class\n",
              "0           5.1          3.5           1.4          0.2  Iris-setosa\n",
              "1           4.9          3.0           1.4          0.2  Iris-setosa\n",
              "2           4.7          3.2           1.3          0.2  Iris-setosa\n",
              "3           4.6          3.1           1.5          0.2  Iris-setosa\n",
              "4           5.0          3.6           1.4          0.2  Iris-setosa"
            ],
            "text/html": [
              "\n",
              "  <div id=\"df-b07e06a7-3153-4ab2-aa9f-6587a1ad258c\">\n",
              "    <div class=\"colab-df-container\">\n",
              "      <div>\n",
              "<style scoped>\n",
              "    .dataframe tbody tr th:only-of-type {\n",
              "        vertical-align: middle;\n",
              "    }\n",
              "\n",
              "    .dataframe tbody tr th {\n",
              "        vertical-align: top;\n",
              "    }\n",
              "\n",
              "    .dataframe thead th {\n",
              "        text-align: right;\n",
              "    }\n",
              "</style>\n",
              "<table border=\"1\" class=\"dataframe\">\n",
              "  <thead>\n",
              "    <tr style=\"text-align: right;\">\n",
              "      <th></th>\n",
              "      <th>sepal length</th>\n",
              "      <th>sepal width</th>\n",
              "      <th>petal length</th>\n",
              "      <th>petal width</th>\n",
              "      <th>class</th>\n",
              "    </tr>\n",
              "  </thead>\n",
              "  <tbody>\n",
              "    <tr>\n",
              "      <th>0</th>\n",
              "      <td>5.1</td>\n",
              "      <td>3.5</td>\n",
              "      <td>1.4</td>\n",
              "      <td>0.2</td>\n",
              "      <td>Iris-setosa</td>\n",
              "    </tr>\n",
              "    <tr>\n",
              "      <th>1</th>\n",
              "      <td>4.9</td>\n",
              "      <td>3.0</td>\n",
              "      <td>1.4</td>\n",
              "      <td>0.2</td>\n",
              "      <td>Iris-setosa</td>\n",
              "    </tr>\n",
              "    <tr>\n",
              "      <th>2</th>\n",
              "      <td>4.7</td>\n",
              "      <td>3.2</td>\n",
              "      <td>1.3</td>\n",
              "      <td>0.2</td>\n",
              "      <td>Iris-setosa</td>\n",
              "    </tr>\n",
              "    <tr>\n",
              "      <th>3</th>\n",
              "      <td>4.6</td>\n",
              "      <td>3.1</td>\n",
              "      <td>1.5</td>\n",
              "      <td>0.2</td>\n",
              "      <td>Iris-setosa</td>\n",
              "    </tr>\n",
              "    <tr>\n",
              "      <th>4</th>\n",
              "      <td>5.0</td>\n",
              "      <td>3.6</td>\n",
              "      <td>1.4</td>\n",
              "      <td>0.2</td>\n",
              "      <td>Iris-setosa</td>\n",
              "    </tr>\n",
              "  </tbody>\n",
              "</table>\n",
              "</div>\n",
              "      <button class=\"colab-df-convert\" onclick=\"convertToInteractive('df-b07e06a7-3153-4ab2-aa9f-6587a1ad258c')\"\n",
              "              title=\"Convert this dataframe to an interactive table.\"\n",
              "              style=\"display:none;\">\n",
              "        \n",
              "  <svg xmlns=\"http://www.w3.org/2000/svg\" height=\"24px\"viewBox=\"0 0 24 24\"\n",
              "       width=\"24px\">\n",
              "    <path d=\"M0 0h24v24H0V0z\" fill=\"none\"/>\n",
              "    <path d=\"M18.56 5.44l.94 2.06.94-2.06 2.06-.94-2.06-.94-.94-2.06-.94 2.06-2.06.94zm-11 1L8.5 8.5l.94-2.06 2.06-.94-2.06-.94L8.5 2.5l-.94 2.06-2.06.94zm10 10l.94 2.06.94-2.06 2.06-.94-2.06-.94-.94-2.06-.94 2.06-2.06.94z\"/><path d=\"M17.41 7.96l-1.37-1.37c-.4-.4-.92-.59-1.43-.59-.52 0-1.04.2-1.43.59L10.3 9.45l-7.72 7.72c-.78.78-.78 2.05 0 2.83L4 21.41c.39.39.9.59 1.41.59.51 0 1.02-.2 1.41-.59l7.78-7.78 2.81-2.81c.8-.78.8-2.07 0-2.86zM5.41 20L4 18.59l7.72-7.72 1.47 1.35L5.41 20z\"/>\n",
              "  </svg>\n",
              "      </button>\n",
              "      \n",
              "  <style>\n",
              "    .colab-df-container {\n",
              "      display:flex;\n",
              "      flex-wrap:wrap;\n",
              "      gap: 12px;\n",
              "    }\n",
              "\n",
              "    .colab-df-convert {\n",
              "      background-color: #E8F0FE;\n",
              "      border: none;\n",
              "      border-radius: 50%;\n",
              "      cursor: pointer;\n",
              "      display: none;\n",
              "      fill: #1967D2;\n",
              "      height: 32px;\n",
              "      padding: 0 0 0 0;\n",
              "      width: 32px;\n",
              "    }\n",
              "\n",
              "    .colab-df-convert:hover {\n",
              "      background-color: #E2EBFA;\n",
              "      box-shadow: 0px 1px 2px rgba(60, 64, 67, 0.3), 0px 1px 3px 1px rgba(60, 64, 67, 0.15);\n",
              "      fill: #174EA6;\n",
              "    }\n",
              "\n",
              "    [theme=dark] .colab-df-convert {\n",
              "      background-color: #3B4455;\n",
              "      fill: #D2E3FC;\n",
              "    }\n",
              "\n",
              "    [theme=dark] .colab-df-convert:hover {\n",
              "      background-color: #434B5C;\n",
              "      box-shadow: 0px 1px 3px 1px rgba(0, 0, 0, 0.15);\n",
              "      filter: drop-shadow(0px 1px 2px rgba(0, 0, 0, 0.3));\n",
              "      fill: #FFFFFF;\n",
              "    }\n",
              "  </style>\n",
              "\n",
              "      <script>\n",
              "        const buttonEl =\n",
              "          document.querySelector('#df-b07e06a7-3153-4ab2-aa9f-6587a1ad258c button.colab-df-convert');\n",
              "        buttonEl.style.display =\n",
              "          google.colab.kernel.accessAllowed ? 'block' : 'none';\n",
              "\n",
              "        async function convertToInteractive(key) {\n",
              "          const element = document.querySelector('#df-b07e06a7-3153-4ab2-aa9f-6587a1ad258c');\n",
              "          const dataTable =\n",
              "            await google.colab.kernel.invokeFunction('convertToInteractive',\n",
              "                                                     [key], {});\n",
              "          if (!dataTable) return;\n",
              "\n",
              "          const docLinkHtml = 'Like what you see? Visit the ' +\n",
              "            '<a target=\"_blank\" href=https://colab.research.google.com/notebooks/data_table.ipynb>data table notebook</a>'\n",
              "            + ' to learn more about interactive tables.';\n",
              "          element.innerHTML = '';\n",
              "          dataTable['output_type'] = 'display_data';\n",
              "          await google.colab.output.renderOutput(dataTable, element);\n",
              "          const docLink = document.createElement('div');\n",
              "          docLink.innerHTML = docLinkHtml;\n",
              "          element.appendChild(docLink);\n",
              "        }\n",
              "      </script>\n",
              "    </div>\n",
              "  </div>\n",
              "  "
            ]
          },
          "metadata": {},
          "execution_count": 20
        }
      ]
    },
    {
      "cell_type": "code",
      "source": [
        "dataset.shape"
      ],
      "metadata": {
        "colab": {
          "base_uri": "https://localhost:8080/"
        },
        "id": "VegUK8kd2p0r",
        "outputId": "eb63a2da-5492-4d3f-e7e8-0a0f53320f93"
      },
      "execution_count": null,
      "outputs": [
        {
          "output_type": "execute_result",
          "data": {
            "text/plain": [
              "(150, 5)"
            ]
          },
          "metadata": {},
          "execution_count": 21
        }
      ]
    },
    {
      "cell_type": "code",
      "source": [
        "training=dataset.values[:,0:4]\n",
        "training"
      ],
      "metadata": {
        "id": "lADBpWcU3gd2"
      },
      "execution_count": null,
      "outputs": []
    },
    {
      "cell_type": "code",
      "source": [
        "trainingclass=dataset.values[:,-1]\n",
        "trainingclass"
      ],
      "metadata": {
        "id": "3LlfZ9093xwl"
      },
      "execution_count": null,
      "outputs": []
    },
    {
      "cell_type": "code",
      "source": [
        "def euclidian_distance(a,b):\n",
        "  distance=0\n",
        "  for i in range(len(a)):\n",
        "    distance+=(a[i]-b[i])**2\n",
        "  distance=math.sqrt(distance)\n",
        "  return distance "
      ],
      "metadata": {
        "id": "9iA-f5xr4HKL"
      },
      "execution_count": null,
      "outputs": []
    },
    {
      "cell_type": "code",
      "source": [
        "unique_class=list(set(trainingclass))"
      ],
      "metadata": {
        "id": "oPvwkTiT5Lge"
      },
      "execution_count": null,
      "outputs": []
    },
    {
      "cell_type": "code",
      "source": [
        "unique_class"
      ],
      "metadata": {
        "colab": {
          "base_uri": "https://localhost:8080/"
        },
        "id": "pxiOux7h5T5p",
        "outputId": "2689cf7d-7d1d-4f45-b69a-0cc7bca86fd6"
      },
      "execution_count": null,
      "outputs": [
        {
          "output_type": "execute_result",
          "data": {
            "text/plain": [
              "['Iris-versicolor', 'Iris-setosa', 'Iris-virginica']"
            ]
          },
          "metadata": {},
          "execution_count": 35
        }
      ]
    },
    {
      "cell_type": "code",
      "source": [
        "#another way\n",
        "np.unique(trainingclass)"
      ],
      "metadata": {
        "colab": {
          "base_uri": "https://localhost:8080/"
        },
        "id": "v_EejKfG5Ylr",
        "outputId": "43cea461-4814-413e-b14c-7980877ced57"
      },
      "execution_count": null,
      "outputs": [
        {
          "output_type": "execute_result",
          "data": {
            "text/plain": [
              "array(['Iris-setosa', 'Iris-versicolor', 'Iris-virginica'], dtype=object)"
            ]
          },
          "metadata": {},
          "execution_count": 36
        }
      ]
    },
    {
      "cell_type": "code",
      "source": [
        "for i in range(len(trainingclass)):\n",
        "  for k in range(len(unique_class)):\n",
        "    if(trainingclass[i]==unique_class[k]):\n",
        "      trainingclass[i]=k\n",
        "print(trainingclass)"
      ],
      "metadata": {
        "colab": {
          "base_uri": "https://localhost:8080/"
        },
        "id": "ei2dSAsV5cVt",
        "outputId": "b77e2a1b-f113-4d25-9aa6-263d4854ecf0"
      },
      "execution_count": null,
      "outputs": [
        {
          "output_type": "stream",
          "name": "stdout",
          "text": [
            "[1 1 1 1 1 1 1 1 1 1 1 1 1 1 1 1 1 1 1 1 1 1 1 1 1 1 1 1 1 1 1 1 1 1 1 1 1\n",
            " 1 1 1 1 1 1 1 1 1 1 1 1 1 0 0 0 0 0 0 0 0 0 0 0 0 0 0 0 0 0 0 0 0 0 0 0 0\n",
            " 0 0 0 0 0 0 0 0 0 0 0 0 0 0 0 0 0 0 0 0 0 0 0 0 0 0 2 2 2 2 2 2 2 2 2 2 2\n",
            " 2 2 2 2 2 2 2 2 2 2 2 2 2 2 2 2 2 2 2 2 2 2 2 2 2 2 2 2 2 2 2 2 2 2 2 2 2\n",
            " 2 2]\n"
          ]
        }
      ]
    },
    {
      "cell_type": "code",
      "source": [
        "testing=training[75]\n",
        "testing"
      ],
      "metadata": {
        "colab": {
          "base_uri": "https://localhost:8080/"
        },
        "id": "DbUWtDZ56PPh",
        "outputId": "01268062-674a-4258-a8d5-fca53e635a74"
      },
      "execution_count": null,
      "outputs": [
        {
          "output_type": "execute_result",
          "data": {
            "text/plain": [
              "array([6.6, 3.0, 4.4, 1.4], dtype=object)"
            ]
          },
          "metadata": {},
          "execution_count": 64
        }
      ]
    },
    {
      "cell_type": "code",
      "source": [
        "distance=[]\n",
        "for i in range(len(training)):\n",
        "  distance.append([euclidian_distance(training[i],testing),trainingclass[i]])"
      ],
      "metadata": {
        "id": "UQ3kbOXe694k"
      },
      "execution_count": null,
      "outputs": []
    },
    {
      "cell_type": "code",
      "source": [
        "distance "
      ],
      "metadata": {
        "colab": {
          "base_uri": "https://localhost:8080/"
        },
        "id": "fVmUbrki7bZT",
        "outputId": "10ff4bf2-7f6a-4d4b-edde-0f11732cd0d7"
      },
      "execution_count": null,
      "outputs": [
        {
          "output_type": "execute_result",
          "data": {
            "text/plain": [
              "[[3.59722114972099, 1],\n",
              " [3.651027252705737, 1],\n",
              " [3.8340579025361627, 1],\n",
              " [3.722902093797257, 1],\n",
              " [3.655133376499413, 1],\n",
              " [3.246536616149585, 1],\n",
              " [3.7907782842049733, 1],\n",
              " [3.5454195802471675, 1],\n",
              " [3.9102429592034307, 1],\n",
              " [3.605551275463989, 1],\n",
              " [3.4322004603461025, 1],\n",
              " [3.5608987629529714, 1],\n",
              " [3.7322915213043046, 1],\n",
              " [4.22729227756965, 1],\n",
              " [3.649657518178932, 1],\n",
              " [3.4899856733230297, 1],\n",
              " [3.5860842154082215, 1],\n",
              " [3.5651086939951777, 1],\n",
              " [3.1543620591175006, 1],\n",
              " [3.5369478367654787, 1],\n",
              " [3.214031735997639, 1],\n",
              " [3.4856850115866753, 1],\n",
              " [4.166533331199932, 1],\n",
              " [3.2310988842807027, 1],\n",
              " [3.330165161069343, 1],\n",
              " [3.4409301068170506, 1],\n",
              " [3.4, 1],\n",
              " [3.472751070837068, 1],\n",
              " [3.54400902933387, 1],\n",
              " [3.5958309192730407, 1],\n",
              " [3.539774004085572, 1],\n",
              " [3.3181320046074116, 1],\n",
              " [3.642801120017397, 1],\n",
              " [3.618010503025109, 1],\n",
              " [3.605551275463989, 1],\n",
              " [3.778888725538237, 1],\n",
              " [3.536947836765479, 1],\n",
              " [3.605551275463989, 1],\n",
              " [3.9862262855989496, 1],\n",
              " [3.5014282800023193, 1],\n",
              " [3.6918829883949464, 1],\n",
              " [3.964845520319802, 1],\n",
              " [3.9912404086950213, 1],\n",
              " [3.3600595232822887, 1],\n",
              " [3.184336665618132, 1],\n",
              " [3.66742416417845, 1],\n",
              " [3.4885527085024814, 1],\n",
              " [3.8052595180880897, 1],\n",
              " [3.468429039204925, 1],\n",
              " [3.618010503025109, 1],\n",
              " [0.5385164807134506, 0],\n",
              " [0.31622776601683755, 0],\n",
              " [0.6000000000000003, 0],\n",
              " [1.3674794331177342, 0],\n",
              " [0.31622776601683755, 0],\n",
              " [0.932737905308881, 0],\n",
              " [0.556776436283002, 0],\n",
              " [2.1494185260204675, 0],\n",
              " [0.24494897427831722, 0],\n",
              " [1.5165750888103098, 0],\n",
              " [2.128379665379276, 0],\n",
              " [0.7348469228349528, 0],\n",
              " [1.1489125293076055, 0],\n",
              " [0.5916079783099616, 0],\n",
              " [1.2884098726725126, 0],\n",
              " [0.14142135623730995, 0],\n",
              " [1.0099504938362078, 0],\n",
              " [0.9899494936611665, 0],\n",
              " [0.9055385138137412, 0],\n",
              " [1.2609520212918492, 0],\n",
              " [0.9219544457292881, 0],\n",
              " [0.678232998312527, 0],\n",
              " [0.7745966692414833, 0],\n",
              " [0.648074069840786, 0],\n",
              " [0.2645751311064587, 0],\n",
              " [0.0, 0],\n",
              " [0.4898979485566353, 0],\n",
              " [0.6782329983125266, 0],\n",
              " [0.6244997998398395, 0],\n",
              " [1.3928388277184118, 0],\n",
              " [1.4212670403551895, 0],\n",
              " [1.489966442575134, 0],\n",
              " [1.0099504938362078, 0],\n",
              " [0.9899494936611658, 0],\n",
              " [1.2083045973594566, 0],\n",
              " [0.7549834435270747, 0],\n",
              " [0.3464101615137755, 0],\n",
              " [0.768114574786861, 0],\n",
              " [1.0488088481701519, 0],\n",
              " [1.2767145334803702, 0],\n",
              " [1.1874342087037915, 0],\n",
              " [0.5385164807134502, 0],\n",
              " [0.9999999999999999, 0],\n",
              " [2.1023796041628637, 0],\n",
              " [1.0677078252031311, 0],\n",
              " [0.9433981132056598, 0],\n",
              " [0.932737905308881, 0],\n",
              " [0.435889894354067, 0],\n",
              " [2.1330729007701543, 0],\n",
              " [0.9746794344808961, 0],\n",
              " [1.9874606914351787, 2],\n",
              " [1.2124355652982135, 2],\n",
              " [1.7291616465790582, 2],\n",
              " [1.303840481040529, 2],\n",
              " [1.615549442140351, 2],\n",
              " [2.5159491250818244, 2],\n",
              " [1.7999999999999992, 2],\n",
              " [2.066397831977182, 2],\n",
              " [1.5427248620541507, 2],\n",
              " [2.1954498400100144, 2],\n",
              " [0.9486832980505133, 2],\n",
              " [1.0908712114635708, 2],\n",
              " [1.3190905958272918, 2],\n",
              " [1.334166406412633, 2],\n",
              " [1.473091986265623, 2],\n",
              " [1.3038404810405293, 2],\n",
              " [1.1747340124470729, 2],\n",
              " [2.7892651361962706, 2],\n",
              " [2.903446228191595, 2],\n",
              " [1.170469991071962, 2],\n",
              " [1.6217274740226855, 2],\n",
              " [1.284523257866513, 2],\n",
              " [2.6267851073127395, 2],\n",
              " [0.7681145747868608, 2],\n",
              " [1.5099668870541498, 2],\n",
              " [1.7663521732655694, 2],\n",
              " [0.7211102550927974, 2],\n",
              " [0.8124038404635961, 2],\n",
              " [1.417744687875782, 2],\n",
              " [1.5362291495737213, 2],\n",
              " [1.954482028569206, 2],\n",
              " [2.586503431275513, 2],\n",
              " [1.4696938456699065, 2],\n",
              " [0.7937253933193765, 2],\n",
              " [1.3601470508735438, 2],\n",
              " [2.2158519806160335, 2],\n",
              " [1.640121946685672, 2],\n",
              " [1.1916375287812981, 2],\n",
              " [0.8246211251235317, 2],\n",
              " [1.2609520212918495, 2],\n",
              " [1.5684387141358116, 2],\n",
              " [1.183215956619923, 2],\n",
              " [1.2124355652982135, 2],\n",
              " [1.772004514666935, 2],\n",
              " [1.7320508075688772, 2],\n",
              " [1.208304597359457, 2],\n",
              " [0.9746794344808961, 2],\n",
              " [1.004987562112089, 2],\n",
              " [1.459451951932642, 2],\n",
              " [1.0677078252031302, 2]]"
            ]
          },
          "metadata": {},
          "execution_count": 67
        }
      ]
    },
    {
      "cell_type": "code",
      "source": [
        "distance.sort()"
      ],
      "metadata": {
        "id": "DatWud077c84"
      },
      "execution_count": null,
      "outputs": []
    },
    {
      "cell_type": "code",
      "source": [
        "distance"
      ],
      "metadata": {
        "colab": {
          "base_uri": "https://localhost:8080/"
        },
        "id": "zFPDHjYU7vl7",
        "outputId": "70f9f132-c988-455a-c7a7-679018ac461e"
      },
      "execution_count": null,
      "outputs": [
        {
          "output_type": "execute_result",
          "data": {
            "text/plain": [
              "[[0.0, 0],\n",
              " [0.14142135623730995, 0],\n",
              " [0.24494897427831722, 0],\n",
              " [0.2645751311064587, 0],\n",
              " [0.31622776601683755, 0],\n",
              " [0.31622776601683755, 0],\n",
              " [0.3464101615137755, 0],\n",
              " [0.435889894354067, 0],\n",
              " [0.4898979485566353, 0],\n",
              " [0.5385164807134502, 0],\n",
              " [0.5385164807134506, 0],\n",
              " [0.556776436283002, 0],\n",
              " [0.5916079783099616, 0],\n",
              " [0.6000000000000003, 0],\n",
              " [0.6244997998398395, 0],\n",
              " [0.648074069840786, 0],\n",
              " [0.6782329983125266, 0],\n",
              " [0.678232998312527, 0],\n",
              " [0.7211102550927974, 2],\n",
              " [0.7348469228349528, 0],\n",
              " [0.7549834435270747, 0],\n",
              " [0.7681145747868608, 2],\n",
              " [0.768114574786861, 0],\n",
              " [0.7745966692414833, 0],\n",
              " [0.7937253933193765, 2],\n",
              " [0.8124038404635961, 2],\n",
              " [0.8246211251235317, 2],\n",
              " [0.9055385138137412, 0],\n",
              " [0.9219544457292881, 0],\n",
              " [0.932737905308881, 0],\n",
              " [0.932737905308881, 0],\n",
              " [0.9433981132056598, 0],\n",
              " [0.9486832980505133, 2],\n",
              " [0.9746794344808961, 0],\n",
              " [0.9746794344808961, 2],\n",
              " [0.9899494936611658, 0],\n",
              " [0.9899494936611665, 0],\n",
              " [0.9999999999999999, 0],\n",
              " [1.004987562112089, 2],\n",
              " [1.0099504938362078, 0],\n",
              " [1.0099504938362078, 0],\n",
              " [1.0488088481701519, 0],\n",
              " [1.0677078252031302, 2],\n",
              " [1.0677078252031311, 0],\n",
              " [1.0908712114635708, 2],\n",
              " [1.1489125293076055, 0],\n",
              " [1.170469991071962, 2],\n",
              " [1.1747340124470729, 2],\n",
              " [1.183215956619923, 2],\n",
              " [1.1874342087037915, 0],\n",
              " [1.1916375287812981, 2],\n",
              " [1.2083045973594566, 0],\n",
              " [1.208304597359457, 2],\n",
              " [1.2124355652982135, 2],\n",
              " [1.2124355652982135, 2],\n",
              " [1.2609520212918492, 0],\n",
              " [1.2609520212918495, 2],\n",
              " [1.2767145334803702, 0],\n",
              " [1.284523257866513, 2],\n",
              " [1.2884098726725126, 0],\n",
              " [1.303840481040529, 2],\n",
              " [1.3038404810405293, 2],\n",
              " [1.3190905958272918, 2],\n",
              " [1.334166406412633, 2],\n",
              " [1.3601470508735438, 2],\n",
              " [1.3674794331177342, 0],\n",
              " [1.3928388277184118, 0],\n",
              " [1.417744687875782, 2],\n",
              " [1.4212670403551895, 0],\n",
              " [1.459451951932642, 2],\n",
              " [1.4696938456699065, 2],\n",
              " [1.473091986265623, 2],\n",
              " [1.489966442575134, 0],\n",
              " [1.5099668870541498, 2],\n",
              " [1.5165750888103098, 0],\n",
              " [1.5362291495737213, 2],\n",
              " [1.5427248620541507, 2],\n",
              " [1.5684387141358116, 2],\n",
              " [1.615549442140351, 2],\n",
              " [1.6217274740226855, 2],\n",
              " [1.640121946685672, 2],\n",
              " [1.7291616465790582, 2],\n",
              " [1.7320508075688772, 2],\n",
              " [1.7663521732655694, 2],\n",
              " [1.772004514666935, 2],\n",
              " [1.7999999999999992, 2],\n",
              " [1.954482028569206, 2],\n",
              " [1.9874606914351787, 2],\n",
              " [2.066397831977182, 2],\n",
              " [2.1023796041628637, 0],\n",
              " [2.128379665379276, 0],\n",
              " [2.1330729007701543, 0],\n",
              " [2.1494185260204675, 0],\n",
              " [2.1954498400100144, 2],\n",
              " [2.2158519806160335, 2],\n",
              " [2.5159491250818244, 2],\n",
              " [2.586503431275513, 2],\n",
              " [2.6267851073127395, 2],\n",
              " [2.7892651361962706, 2],\n",
              " [2.903446228191595, 2],\n",
              " [3.1543620591175006, 1],\n",
              " [3.184336665618132, 1],\n",
              " [3.214031735997639, 1],\n",
              " [3.2310988842807027, 1],\n",
              " [3.246536616149585, 1],\n",
              " [3.3181320046074116, 1],\n",
              " [3.330165161069343, 1],\n",
              " [3.3600595232822887, 1],\n",
              " [3.4, 1],\n",
              " [3.4322004603461025, 1],\n",
              " [3.4409301068170506, 1],\n",
              " [3.468429039204925, 1],\n",
              " [3.472751070837068, 1],\n",
              " [3.4856850115866753, 1],\n",
              " [3.4885527085024814, 1],\n",
              " [3.4899856733230297, 1],\n",
              " [3.5014282800023193, 1],\n",
              " [3.5369478367654787, 1],\n",
              " [3.536947836765479, 1],\n",
              " [3.539774004085572, 1],\n",
              " [3.54400902933387, 1],\n",
              " [3.5454195802471675, 1],\n",
              " [3.5608987629529714, 1],\n",
              " [3.5651086939951777, 1],\n",
              " [3.5860842154082215, 1],\n",
              " [3.5958309192730407, 1],\n",
              " [3.59722114972099, 1],\n",
              " [3.605551275463989, 1],\n",
              " [3.605551275463989, 1],\n",
              " [3.605551275463989, 1],\n",
              " [3.618010503025109, 1],\n",
              " [3.618010503025109, 1],\n",
              " [3.642801120017397, 1],\n",
              " [3.649657518178932, 1],\n",
              " [3.651027252705737, 1],\n",
              " [3.655133376499413, 1],\n",
              " [3.66742416417845, 1],\n",
              " [3.6918829883949464, 1],\n",
              " [3.722902093797257, 1],\n",
              " [3.7322915213043046, 1],\n",
              " [3.778888725538237, 1],\n",
              " [3.7907782842049733, 1],\n",
              " [3.8052595180880897, 1],\n",
              " [3.8340579025361627, 1],\n",
              " [3.9102429592034307, 1],\n",
              " [3.964845520319802, 1],\n",
              " [3.9862262855989496, 1],\n",
              " [3.9912404086950213, 1],\n",
              " [4.166533331199932, 1],\n",
              " [4.22729227756965, 1]]"
            ]
          },
          "metadata": {},
          "execution_count": 69
        }
      ]
    },
    {
      "cell_type": "code",
      "source": [
        "k=5"
      ],
      "metadata": {
        "id": "gmGOZeEi7x66"
      },
      "execution_count": null,
      "outputs": []
    },
    {
      "cell_type": "code",
      "source": [
        "identify=[0 for i in range(len(unique_class))]"
      ],
      "metadata": {
        "id": "ZWeINAI076yY"
      },
      "execution_count": null,
      "outputs": []
    },
    {
      "cell_type": "code",
      "source": [
        "identify"
      ],
      "metadata": {
        "colab": {
          "base_uri": "https://localhost:8080/"
        },
        "id": "hXmMdjBC7-ao",
        "outputId": "497f881d-c794-4295-ab37-8ea433e9141f"
      },
      "execution_count": null,
      "outputs": [
        {
          "output_type": "execute_result",
          "data": {
            "text/plain": [
              "[0, 0, 0]"
            ]
          },
          "metadata": {},
          "execution_count": 72
        }
      ]
    },
    {
      "cell_type": "code",
      "source": [
        "for i in range(1,k+1):\n",
        "  identify[distance[i][1]]+=1\n",
        "print(identify)"
      ],
      "metadata": {
        "colab": {
          "base_uri": "https://localhost:8080/"
        },
        "id": "y5_WHCsg9pTf",
        "outputId": "76f3e000-cdee-4ba9-d4ca-9878d34edd07"
      },
      "execution_count": null,
      "outputs": [
        {
          "output_type": "stream",
          "name": "stdout",
          "text": [
            "[5, 0, 0]\n"
          ]
        }
      ]
    },
    {
      "cell_type": "code",
      "source": [
        "print(\"The Predicted Class is\",unique_class[identify.index(max(identify))])"
      ],
      "metadata": {
        "colab": {
          "base_uri": "https://localhost:8080/"
        },
        "id": "6UFCMcPU-A0_",
        "outputId": "79122ed9-5876-41fe-9d48-931bcf7e5700"
      },
      "execution_count": null,
      "outputs": [
        {
          "output_type": "stream",
          "name": "stdout",
          "text": [
            "The Predicted Class is Iris-versicolor\n"
          ]
        }
      ]
    },
    {
      "cell_type": "code",
      "source": [],
      "metadata": {
        "id": "HUU3qd7S-xIh"
      },
      "execution_count": null,
      "outputs": []
    }
  ]
}